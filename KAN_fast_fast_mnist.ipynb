{
 "cells": [
  {
   "cell_type": "markdown",
   "source": [
    "# KAN_fast_fast KAN网络的近似快速实现\n",
    "使用github @ZiyaoLi 的KAN网络实现 比KNA_fast快3倍左右"
   ],
   "metadata": {
    "collapsed": false
   },
   "id": "8ce4c4baf9a5908b"
  },
  {
   "cell_type": "markdown",
   "source": [
    "### 使用高斯径向基函数来近似 B 样条函数\n",
    "这样做的基本原理是，这些函数非常接近 B 样条函数（直至线性变换），并且非常容易计算（只要网格是均匀的）。"
   ],
   "metadata": {
    "collapsed": false
   },
   "id": "61c733374806f9a8"
  },
  {
   "cell_type": "code",
   "execution_count": 14,
   "outputs": [],
   "source": [
    "import torch\n",
    "import torch.nn as nn\n",
    "import torch.nn.functional as F\n",
    "import math\n",
    "from typing import *\n",
    "\n",
    "class SplineLinear(nn.Linear):\n",
    "    def __init__(self, in_features: int, out_features: int, init_scale: float = 0.1, **kw) -> None:\n",
    "        self.init_scale = init_scale\n",
    "        super().__init__(in_features, out_features, bias=False, **kw)\n",
    "\n",
    "    def reset_parameters(self) -> None:\n",
    "        nn.init.trunc_normal_(self.weight, mean=0, std=self.init_scale)\n",
    "\n",
    "class RadialBasisFunction(nn.Module):\n",
    "    def __init__(\n",
    "        self,\n",
    "        grid_min: float = -2.,\n",
    "        grid_max: float = 2.,\n",
    "        num_grids: int = 8,\n",
    "        denominator: float = None,  # larger denominators lead to smoother basis\n",
    "    ):\n",
    "        super().__init__()\n",
    "        grid = torch.linspace(grid_min, grid_max, num_grids)\n",
    "        self.grid = torch.nn.Parameter(grid, requires_grad=False)\n",
    "        self.denominator = denominator or (grid_max - grid_min) / (num_grids - 1)\n",
    "\n",
    "    def forward(self, x):\n",
    "        return torch.exp(-((x[..., None] - self.grid) / self.denominator) ** 2)\n",
    "\n",
    "class FastKANLayer(nn.Module):\n",
    "    def __init__(\n",
    "        self,\n",
    "        input_dim: int,\n",
    "        output_dim: int,\n",
    "        grid_min: float = -2.,\n",
    "        grid_max: float = 2.,\n",
    "        num_grids: int = 8,\n",
    "        use_base_update: bool = True,\n",
    "        base_activation = F.silu,\n",
    "        spline_weight_init_scale: float = 0.1,\n",
    "    ) -> None:\n",
    "        super().__init__()\n",
    "        self.layernorm = nn.LayerNorm(input_dim)\n",
    "        self.rbf = RadialBasisFunction(grid_min, grid_max, num_grids)\n",
    "        self.spline_linear = SplineLinear(input_dim * num_grids, output_dim, spline_weight_init_scale)\n",
    "        self.use_base_update = use_base_update\n",
    "        if use_base_update:\n",
    "            self.base_activation = base_activation\n",
    "            self.base_linear = nn.Linear(input_dim, output_dim)\n",
    "\n",
    "    def forward(self, x, time_benchmark=False):\n",
    "        if not time_benchmark:\n",
    "            spline_basis = self.rbf(self.layernorm(x))\n",
    "        else:\n",
    "            spline_basis = self.rbf(x)\n",
    "        ret = self.spline_linear(spline_basis.view(*spline_basis.shape[:-2], -1))\n",
    "        if self.use_base_update:\n",
    "            base = self.base_linear(self.base_activation(x))\n",
    "            ret = ret + base\n",
    "        return ret\n",
    "\n",
    "\n",
    "class FastKAN(nn.Module):\n",
    "    def __init__(\n",
    "        self,\n",
    "        layers_hidden: List[int],\n",
    "        grid_min: float = -2.,\n",
    "        grid_max: float = 2.,\n",
    "        num_grids: int = 8,\n",
    "        use_base_update: bool = True,\n",
    "        base_activation = F.silu,\n",
    "        spline_weight_init_scale: float = 0.1,\n",
    "    ) -> None:\n",
    "        super().__init__()\n",
    "        self.layers = nn.ModuleList([\n",
    "            FastKANLayer(\n",
    "                in_dim, out_dim,\n",
    "                grid_min=grid_min,\n",
    "                grid_max=grid_max,\n",
    "                num_grids=num_grids,\n",
    "                use_base_update=use_base_update,\n",
    "                base_activation=base_activation,\n",
    "                spline_weight_init_scale=spline_weight_init_scale,\n",
    "            ) for in_dim, out_dim in zip(layers_hidden[:-1], layers_hidden[1:])\n",
    "        ])\n",
    "\n",
    "    def forward(self, x):\n",
    "        for layer in self.layers:\n",
    "            x = layer(x)\n",
    "        return x\n",
    "\n",
    "\n",
    "class AttentionWithFastKANTransform(nn.Module):\n",
    "    \n",
    "    def __init__(\n",
    "        self,\n",
    "        q_dim: int,\n",
    "        k_dim: int,\n",
    "        v_dim: int,\n",
    "        head_dim: int,\n",
    "        num_heads: int,\n",
    "        gating: bool = True,\n",
    "    ):\n",
    "        super(AttentionWithFastKANTransform, self).__init__()\n",
    "\n",
    "        self.num_heads = num_heads\n",
    "        total_dim = head_dim * self.num_heads\n",
    "        self.gating = gating\n",
    "        self.linear_q = FastKANLayer(q_dim, total_dim)\n",
    "        self.linear_k = FastKANLayer(k_dim, total_dim)\n",
    "        self.linear_v = FastKANLayer(v_dim, total_dim)\n",
    "        self.linear_o = FastKANLayer(total_dim, q_dim)\n",
    "        self.linear_g = None\n",
    "        if self.gating:\n",
    "            self.linear_g = FastKANLayer(q_dim, total_dim)\n",
    "        # precompute the 1/sqrt(head_dim)\n",
    "        self.norm = head_dim**-0.5\n",
    "\n",
    "    def forward(\n",
    "        self,\n",
    "        q: torch.Tensor,\n",
    "        k: torch.Tensor,\n",
    "        v: torch.Tensor,\n",
    "        bias: torch.Tensor = None,      # additive attention bias\n",
    "    ) -> torch.Tensor:         \n",
    "\n",
    "        wq = self.linear_q(q).view(*q.shape[:-1], 1, self.num_heads, -1) * self.norm     # *q1hc\n",
    "        wk = self.linear_k(k).view(*k.shape[:-2], 1, k.shape[-2], self.num_heads, -1)    # *1khc\n",
    "        att = (wq * wk).sum(-1).softmax(-2)     # *qkh\n",
    "        del wq, wk\n",
    "        if bias is not None:\n",
    "            att = att + bias[..., None]\n",
    "\n",
    "        wv = self.linear_v(v).view(*v.shape[:-2],1, v.shape[-2], self.num_heads, -1)     # *1khc\n",
    "        o = (att[..., None] * wv).sum(-3)        # *qhc\n",
    "        del att, wv\n",
    "\n",
    "        o = o.view(*o.shape[:-2], -1)           # *q(hc)\n",
    "\n",
    "        if self.linear_g is not None:\n",
    "            # gating, use raw query input\n",
    "            g = self.linear_g(q)\n",
    "            o = torch.sigmoid(g) * o\n",
    "\n",
    "        # merge heads\n",
    "        o = self.linear_o(o)\n",
    "        return o\n"
   ],
   "metadata": {
    "collapsed": false,
    "ExecuteTime": {
     "end_time": "2024-05-20T13:34:35.668496900Z",
     "start_time": "2024-05-20T13:34:35.639005300Z"
    }
   },
   "id": "4690dfd5d9383785"
  },
  {
   "cell_type": "markdown",
   "source": [
    "## 执行mnist项目"
   ],
   "metadata": {
    "collapsed": false
   },
   "id": "ddd4f697191e2194"
  },
  {
   "cell_type": "code",
   "execution_count": 18,
   "outputs": [
    {
     "name": "stderr",
     "output_type": "stream",
     "text": [
      "100%|██████████| 938/938 [00:11<00:00, 83.51it/s, accuracy=0.844, loss=0.328, lr=0.001] \n"
     ]
    },
    {
     "name": "stdout",
     "output_type": "stream",
     "text": [
      "Epoch 1, Val Loss: 0.20947119350408672, Val Accuracy: 0.9390923566878981\n"
     ]
    },
    {
     "name": "stderr",
     "output_type": "stream",
     "text": [
      "100%|██████████| 938/938 [00:11<00:00, 82.03it/s, accuracy=0.938, loss=0.178, lr=0.0008] \n"
     ]
    },
    {
     "name": "stdout",
     "output_type": "stream",
     "text": [
      "Epoch 2, Val Loss: 0.1391002610503773, Val Accuracy: 0.9580015923566879\n"
     ]
    },
    {
     "name": "stderr",
     "output_type": "stream",
     "text": [
      "100%|██████████| 938/938 [00:12<00:00, 73.30it/s, accuracy=0.906, loss=0.221, lr=0.00064] \n"
     ]
    },
    {
     "name": "stdout",
     "output_type": "stream",
     "text": [
      "Epoch 3, Val Loss: 0.11480167009467318, Val Accuracy: 0.9655652866242038\n"
     ]
    },
    {
     "name": "stderr",
     "output_type": "stream",
     "text": [
      "100%|██████████| 938/938 [00:10<00:00, 91.16it/s, accuracy=1, loss=0.0161, lr=0.000512]    \n"
     ]
    },
    {
     "name": "stdout",
     "output_type": "stream",
     "text": [
      "Epoch 4, Val Loss: 0.11593554991558432, Val Accuracy: 0.9643710191082803\n"
     ]
    },
    {
     "name": "stderr",
     "output_type": "stream",
     "text": [
      "100%|██████████| 938/938 [00:11<00:00, 85.20it/s, accuracy=0.969, loss=0.0487, lr=0.00041]\n"
     ]
    },
    {
     "name": "stdout",
     "output_type": "stream",
     "text": [
      "Epoch 5, Val Loss: 0.09652978083627464, Val Accuracy: 0.9700437898089171\n"
     ]
    },
    {
     "name": "stderr",
     "output_type": "stream",
     "text": [
      "100%|██████████| 938/938 [00:10<00:00, 91.30it/s, accuracy=1, loss=0.0123, lr=0.000328]     \n"
     ]
    },
    {
     "name": "stdout",
     "output_type": "stream",
     "text": [
      "Epoch 6, Val Loss: 0.09183970891413054, Val Accuracy: 0.9715366242038217\n"
     ]
    },
    {
     "name": "stderr",
     "output_type": "stream",
     "text": [
      "100%|██████████| 938/938 [00:11<00:00, 84.14it/s, accuracy=1, loss=0.0269, lr=0.000262]    \n"
     ]
    },
    {
     "name": "stdout",
     "output_type": "stream",
     "text": [
      "Epoch 7, Val Loss: 0.08972187275786225, Val Accuracy: 0.972531847133758\n"
     ]
    },
    {
     "name": "stderr",
     "output_type": "stream",
     "text": [
      "100%|██████████| 938/938 [00:11<00:00, 82.44it/s, accuracy=1, loss=0.0201, lr=0.00021]    \n"
     ]
    },
    {
     "name": "stdout",
     "output_type": "stream",
     "text": [
      "Epoch 8, Val Loss: 0.09026047039139722, Val Accuracy: 0.9735270700636943\n"
     ]
    },
    {
     "name": "stderr",
     "output_type": "stream",
     "text": [
      "100%|██████████| 938/938 [00:12<00:00, 75.72it/s, accuracy=0.969, loss=0.0541, lr=0.000168]\n"
     ]
    },
    {
     "name": "stdout",
     "output_type": "stream",
     "text": [
      "Epoch 9, Val Loss: 0.09265869719676664, Val Accuracy: 0.972531847133758\n"
     ]
    },
    {
     "name": "stderr",
     "output_type": "stream",
     "text": [
      "100%|██████████| 938/938 [00:12<00:00, 75.61it/s, accuracy=1, loss=0.00595, lr=0.000134]   \n"
     ]
    },
    {
     "name": "stdout",
     "output_type": "stream",
     "text": [
      "Epoch 10, Val Loss: 0.08982940631785881, Val Accuracy: 0.9738256369426752\n"
     ]
    }
   ],
   "source": [
    "# Train on MNIST\n",
    "import torch\n",
    "import torch.nn as nn\n",
    "import torch.optim as optim\n",
    "import torchvision\n",
    "import torchvision.transforms as transforms\n",
    "from torch.utils.data import DataLoader\n",
    "from tqdm import tqdm\n",
    "import time\n",
    "\n",
    "# Load MNIST\n",
    "transform = transforms.Compose(\n",
    "    [transforms.ToTensor(), transforms.Normalize((0.5,), (0.5,))]\n",
    ")\n",
    "trainset = torchvision.datasets.MNIST(\n",
    "    root=\"./data\", train=True, download=True, transform=transform\n",
    ")\n",
    "valset = torchvision.datasets.MNIST(\n",
    "    root=\"./data\", train=False, download=True, transform=transform\n",
    ")\n",
    "trainloader = DataLoader(trainset, batch_size=64, shuffle=True)\n",
    "valloader = DataLoader(valset, batch_size=64, shuffle=False)\n",
    "\n",
    "# 模型\n",
    "model = FastKAN([28 * 28, 64, 10])\n",
    "device = torch.device(\"cuda\" if torch.cuda.is_available() else \"cpu\")\n",
    "model.to(device)\n",
    "# 定义优化器\n",
    "optimizer = optim.AdamW(model.parameters(), lr=1e-3, weight_decay=1e-4)\n",
    "# 定义学习率调度器\n",
    "scheduler = optim.lr_scheduler.ExponentialLR(optimizer, gamma=0.8)\n",
    "\n",
    "# 定义损失函数 计算模型输出与实际标签之间的损失\n",
    "criterion = nn.CrossEntropyLoss()\n",
    "\n",
    "# 用于记录训练和验证的损失和准确率\n",
    "train_losses = []\n",
    "train_accuracies = []\n",
    "val_losses = []\n",
    "val_accuracies = []\n",
    "epoch_times = []\n",
    "\n",
    "for epoch in range(10):\n",
    "    start_time = time.time()  # 记录当前epoch的开始时间\n",
    "\n",
    "    # 训练\n",
    "    model.train()\n",
    "    train_loss = 0\n",
    "    train_accuracy = 0\n",
    "    with tqdm(trainloader) as pbar:\n",
    "        for i, (images, labels) in enumerate(pbar):\n",
    "            images = images.view(-1, 28 * 28).to(device)\n",
    "            optimizer.zero_grad()\n",
    "            output = model(images)\n",
    "            loss = criterion(output, labels.to(device))\n",
    "            loss.backward()\n",
    "            optimizer.step()\n",
    "            \n",
    "            train_loss += loss.item()\n",
    "            train_accuracy += (output.argmax(dim=1) == labels.to(device)).float().mean().item()\n",
    "            \n",
    "            accuracy = (output.argmax(dim=1) == labels.to(device)).float().mean()\n",
    "            pbar.set_postfix(loss=loss.item(), accuracy=accuracy.item(), lr=optimizer.param_groups[0]['lr'])\n",
    "            \n",
    "    train_loss /= len(trainloader)\n",
    "    train_accuracy /= len(trainloader)\n",
    "    train_losses.append(train_loss)\n",
    "    train_accuracies.append(train_accuracy)\n",
    "    \n",
    "    # 验证\n",
    "    model.eval()\n",
    "    val_loss = 0\n",
    "    val_accuracy = 0\n",
    "    with torch.no_grad():\n",
    "        for images, labels in valloader:\n",
    "            images = images.view(-1, 28 * 28).to(device)\n",
    "            output = model(images)\n",
    "            val_loss += criterion(output, labels.to(device)).item()\n",
    "            val_accuracy += (\n",
    "                (output.argmax(dim=1) == labels.to(device)).float().mean().item()\n",
    "            )\n",
    "            \n",
    "    val_loss /= len(valloader)\n",
    "    val_accuracy /= len(valloader)\n",
    "    val_losses.append(val_loss)\n",
    "    val_accuracies.append(val_accuracy)\n",
    "\n",
    "    # 更新学习率\n",
    "    scheduler.step()\n",
    "\n",
    "    end_time = time.time()  # 记录当前epoch的结束时间\n",
    "    epoch_time = end_time - start_time  # 计算当前epoch的持续时间\n",
    "    epoch_times.append(epoch_time)  # 记录持续时间\n",
    "\n",
    "    print(\n",
    "        f\"Epoch {epoch + 1}, Val Loss: {val_loss}, Val Accuracy: {val_accuracy}\"\n",
    "    )\n"
   ],
   "metadata": {
    "collapsed": false,
    "ExecuteTime": {
     "end_time": "2024-05-20T13:40:56.404620Z",
     "start_time": "2024-05-20T13:38:51.808422200Z"
    }
   },
   "id": "7a4dc31e5895337f"
  },
  {
   "cell_type": "markdown",
   "source": [
    "# 绘制损失函数图"
   ],
   "metadata": {
    "collapsed": false
   },
   "id": "9058b5a1c113338f"
  },
  {
   "cell_type": "code",
   "execution_count": 19,
   "outputs": [
    {
     "name": "stdout",
     "output_type": "stream",
     "text": [
      "[0.3579725994349225, 0.14724834613811805, 0.09711384209099291, 0.06792931310010394, 0.0479960374425906, 0.035326726981617415, 0.02516288518074598, 0.018479348582052774, 0.014075831380307373, 0.010780643499672298]\n"
     ]
    },
    {
     "data": {
      "text/plain": "<Figure size 1200x400 with 3 Axes>",
      "image/png": "[encoded data removed]"
     },
     "metadata": {},
     "output_type": "display_data"
    }
   ],
   "source": [
    "# 绘制损失函数图\n",
    "import matplotlib.pyplot as plt\n",
    "plt.rcParams['font.family'] = 'SimHei'\n",
    "plt.figure(figsize=(12, 4))\n",
    "print(train_losses)\n",
    "plt.subplot(1, 3, 1)\n",
    "plt.plot(range(1, 11), train_losses, label='Train Loss')\n",
    "plt.plot(range(1, 11), val_losses, label='Val Loss')\n",
    "plt.xlabel('Epoch')\n",
    "plt.ylabel('Loss')\n",
    "plt.title('KAN_fast_fast-训练和验证误差-樊豫龙')\n",
    "plt.legend()\n",
    "\n",
    "plt.subplot(1, 3, 2)\n",
    "plt.plot(range(1, 11), train_accuracies, label='Train Accuracy')\n",
    "plt.plot(range(1, 11), val_accuracies, label='Val Accuracy')\n",
    "plt.xlabel('Epoch')\n",
    "plt.ylabel('Accuracy')\n",
    "plt.title('KAN_fast_fast-Accuracy-樊豫龙')\n",
    "plt.legend()\n",
    "\n",
    "plt.subplot(1, 3, 3)\n",
    "plt.plot(range(1, 11), epoch_times, label='Epoch Time')\n",
    "plt.xlabel('Epoch')\n",
    "plt.ylabel('Time (seconds)')\n",
    "plt.title('KAN_fast_fast-每步训练时间-樊豫龙')\n",
    "plt.legend()\n",
    "\n",
    "plt.tight_layout()\n",
    "plt.show()"
   ],
   "metadata": {
    "collapsed": false,
    "ExecuteTime": {
     "end_time": "2024-05-20T13:41:24.044866200Z",
     "start_time": "2024-05-20T13:41:23.778721200Z"
    }
   },
   "id": "8dbded6fa2cad21a"
  },
  {
   "cell_type": "code",
   "execution_count": 20,
   "outputs": [],
   "source": [
    "torch.save(model.state_dict(), \"./models/kan_fast_fast.pth\")"
   ],
   "metadata": {
    "collapsed": false,
    "ExecuteTime": {
     "end_time": "2024-05-20T13:41:57.511689800Z",
     "start_time": "2024-05-20T13:41:57.480442300Z"
    }
   },
   "id": "5240e15fb6383dfa"
  },
  {
   "cell_type": "code",
   "execution_count": null,
   "outputs": [],
   "source": [],
   "metadata": {
    "collapsed": false
   },
   "id": "575f4dedd792a811"
  }
 ],
 "metadata": {
  "kernelspec": {
   "display_name": "Python 3",
   "language": "python",
   "name": "python3"
  },
  "language_info": {
   "codemirror_mode": {
    "name": "ipython",
    "version": 2
   },
   "file_extension": ".py",
   "mimetype": "text/x-python",
   "name": "python",
   "nbconvert_exporter": "python",
   "pygments_lexer": "ipython2",
   "version": "2.7.6"
  }
 },
 "nbformat": 4,
 "nbformat_minor": 5
}
