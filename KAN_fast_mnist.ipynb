{
 "cells": [
  {
   "cell_type": "markdown",
   "source": [
    "# KAN_fast KAN网络的改进"
   ],
   "metadata": {
    "collapsed": false
   },
   "id": "c0c0a3551d28110b"
  },
  {
   "cell_type": "markdown",
   "source": [
    "## 通过研读论文理解论文含义，观看视频讲解，下载github项目并运行，我们得到以下结论：\n",
    "### KAN网络原始实现的性能问题主要在于它需要扩展所有中间变量以执行不同的激活函数。对于具有 in_features 个输入和 out_features 个输出的层，原始实现需要将输入扩展为形状为 (batch_size, out_features, in_features) 的张量以执行激活函数。然而，所有激活函数都是一组固定基函数（B 样条）的线性组合；鉴于此，拟将计算重新表述为用不同的基函数激活输入，然后将它们线性组合。这种重新表述可以显著减少内存消耗，并使计算变得更加简单的矩阵乘法，自然地适用于前向和后向传递。\n",
    "\n",
    "### 稀疏化被认为对 KAN 的可解释性至关重要。作者提出了一种定义在输入样本上的 L1 正则化，它需要对 (batch_size, out_features, in_features) 张量进行非线性操作，因此与重新表述不兼容。拟改为对权重进行 L1 正则化，这在神经网络中更为常见，并且与重新表述兼容。\n",
    "\n",
    "### 除了可学习的激活函数（B 样条），原始实现还包括对每个激活函数的可学习缩放。拟提供了一个名为 enable_standalone_scale_spline 的选项，默认情况下为 True 以包含此功能；禁用它会使模型更高效，但可能会影响结果。这也需要更多实验来验证。\n",
    "\n",
    "综上，拟做以下改进：\n",
    "1.内存效率提升:\n",
    "原始实现需要扩展所有中间变量来执行不同的激活函数，而此代码中将计算重新制定为使用不同的基函数激活输入。\n",
    "然后线性组合它们。这种重新制定可以显著降低内存成本，并将计算变得更加高效。\n",
    "2.正则化方法的改变:\n",
    "原始实现中使用的L1正则化需要对张量进行非线性操作，与重新制定的计算不兼容。\n",
    "因此，此代码中将L1正则化改为对权重的L1正则化，这更符合神经网络中常见的正则化方法，并且与重新制定的计算兼容。\n",
    "3.激活函数缩放选项:\n",
    "原始实现中包括了每个激活函数的可学习缩放，但这个库提供了一个选项来禁用这个特性。\n",
    "禁用缩放可以使模型更加高效，但可能会影响结果。\n",
    "4.参数初始化的改变：\n",
    "为了解决在MNIST数据集上的性能问题，此代码修改了参数的初始化方式使用kaiming初始化.\n"
   ],
   "metadata": {
    "collapsed": false
   },
   "id": "dd4c4d233d3e505a"
  },
  {
   "cell_type": "markdown",
   "source": [
    "## 代码实现\n",
    "### KAN_fast.py"
   ],
   "metadata": {
    "collapsed": false
   },
   "id": "cd9e0b0da872301c"
  },
  {
   "cell_type": "code",
   "execution_count": 1,
   "outputs": [],
   "source": [
    "import torch\n",
    "import torch.nn.functional as F\n",
    "import math\n",
    "\n",
    "\"\"\"\n",
    "1.内存效率提升：原始实现需要扩展所有中间变量来执行不同的激活函数，而此代码中将计算重新制定为使用不同的基函数激活输入，\n",
    "  然后线性组合它们。这种重新制定可以显著降低内存成本，并将计算变得更加高效。\n",
    "\n",
    "2.正则化方法的改变：原始实现中使用的L1正则化需要对张量进行非线性操作，与重新制定的计算不兼容。\n",
    "  因此，此代码中将L1正则化改为对权重的L1正则化，这更符合神经网络中常见的正则化方法，并且与重新制定的计算兼容。\n",
    "\n",
    "3.激活函数缩放选项：原始实现中包括了每个激活函数的可学习缩放，但这个库提供了一个选项来禁用这个特性。\n",
    "  禁用缩放可以使模型更加高效，但可能会影响结果。\n",
    "\n",
    "4.参数初始化的改变：为了解决在MNIST数据集上的性能问题，此代码修改了参数的初始化方式，使用kaiming初始化。\n",
    "\"\"\"\n",
    "\n",
    "class KANLinear(torch.nn.Module):\n",
    "    def __init__(\n",
    "        self,\n",
    "        in_features,\n",
    "        out_features,\n",
    "        grid_size=5,  # 网格大小，默认为 5\n",
    "        spline_order=3, # 分段多项式的阶数，默认为 3\n",
    "        scale_noise=0.1,  # 缩放噪声，默认为 0.1\n",
    "        scale_base=1.0,   # 基础缩放，默认为 1.0\n",
    "        scale_spline=1.0,    # 分段多项式的缩放，默认为 1.0\n",
    "        enable_standalone_scale_spline=True,\n",
    "        base_activation=torch.nn.SiLU,  # 基础激活函数，默认为 SiLU（Sigmoid Linear Unit）\n",
    "        grid_eps=0.02,\n",
    "        grid_range=[-1, 1],  # 网格范围，默认为 [-1, 1]\n",
    "    ):\n",
    "        super(KANLinear, self).__init__()\n",
    "        self.in_features = in_features\n",
    "        self.out_features = out_features\n",
    "        self.grid_size = grid_size # 设置网格大小和分段多项式的阶数\n",
    "        self.spline_order = spline_order\n",
    "\n",
    "        h = (grid_range[1] - grid_range[0]) / grid_size   # 计算网格步长\n",
    "        grid = ( # 生成网格\n",
    "            (\n",
    "                torch.arange(-spline_order, grid_size + spline_order + 1) * h\n",
    "                + grid_range[0] \n",
    "            )\n",
    "            .expand(in_features, -1)\n",
    "            .contiguous()\n",
    "        )\n",
    "        self.register_buffer(\"grid\", grid)  # 将网格作为缓冲区注册\n",
    "\n",
    "        self.base_weight = torch.nn.Parameter(torch.Tensor(out_features, in_features)) # 初始化基础权重和分段多项式权重\n",
    "        self.spline_weight = torch.nn.Parameter(\n",
    "            torch.Tensor(out_features, in_features, grid_size + spline_order)\n",
    "        )\n",
    "        if enable_standalone_scale_spline:  # 如果启用独立的分段多项式缩放，则初始化分段多项式缩放参数\n",
    "            self.spline_scaler = torch.nn.Parameter(\n",
    "                torch.Tensor(out_features, in_features)\n",
    "            )\n",
    "\n",
    "        self.scale_noise = scale_noise # 保存缩放噪声、基础缩放、分段多项式的缩放、是否启用独立的分段多项式缩放、基础激活函数和网格范围的容差\n",
    "        self.scale_base = scale_base\n",
    "        self.scale_spline = scale_spline\n",
    "        self.enable_standalone_scale_spline = enable_standalone_scale_spline\n",
    "        self.base_activation = base_activation()\n",
    "        self.grid_eps = grid_eps\n",
    "\n",
    "        self.reset_parameters()  # 重置参数\n",
    "\n",
    "    def reset_parameters(self):\n",
    "        torch.nn.init.kaiming_uniform_(self.base_weight, a=math.sqrt(5) * self.scale_base)# 使用 Kaiming 均匀初始化基础权重\n",
    "        with torch.no_grad():\n",
    "            noise = (# 生成缩放噪声\n",
    "                (\n",
    "                    torch.rand(self.grid_size + 1, self.in_features, self.out_features)\n",
    "                    - 1 / 2\n",
    "                )\n",
    "                * self.scale_noise\n",
    "                / self.grid_size\n",
    "            )\n",
    "            self.spline_weight.data.copy_( # 计算分段多项式权重\n",
    "                (self.scale_spline if not self.enable_standalone_scale_spline else 1.0)\n",
    "                * self.curve2coeff(\n",
    "                    self.grid.T[self.spline_order : -self.spline_order],\n",
    "                    noise,\n",
    "                )\n",
    "            )\n",
    "            if self.enable_standalone_scale_spline:  # 如果启用独立的分段多项式缩放，则使用 Kaiming 均匀初始化分段多项式缩放参数\n",
    "                # torch.nn.init.constant_(self.spline_scaler, self.scale_spline)\n",
    "                torch.nn.init.kaiming_uniform_(self.spline_scaler, a=math.sqrt(5) * self.scale_spline)\n",
    "\n",
    "    def b_splines(self, x: torch.Tensor):\n",
    "        \"\"\"\n",
    "        计算给定输入张量的 B-样条基函数。\n",
    "\n",
    "        参数:\n",
    "        x (torch.Tensor): 输入张量，形状为 (batch_size, in_features)。\n",
    "\n",
    "        返回:\n",
    "        torch.Tensor: B-样条基函数张量，形状为 (batch_size, in_features, grid_size + spline_order)。\n",
    "        \"\"\"\n",
    "        assert x.dim() == 2 and x.size(1) == self.in_features\n",
    "\n",
    "        grid: torch.Tensor = ( # 形状为 (in_features, grid_size + 2 * spline_order + 1)\n",
    "            self.grid\n",
    "        )  # (in_features, grid_size + 2 * spline_order + 1)\n",
    "        x = x.unsqueeze(-1)\n",
    "        bases = ((x >= grid[:, :-1]) & (x < grid[:, 1:])).to(x.dtype)\n",
    "        for k in range(1, self.spline_order + 1):\n",
    "            bases = (\n",
    "                (x - grid[:, : -(k + 1)])\n",
    "                / (grid[:, k:-1] - grid[:, : -(k + 1)])\n",
    "                * bases[:, :, :-1]\n",
    "            ) + (\n",
    "                (grid[:, k + 1 :] - x)\n",
    "                / (grid[:, k + 1 :] - grid[:, 1:(-k)])\n",
    "                * bases[:, :, 1:]\n",
    "            )\n",
    "\n",
    "        assert bases.size() == (\n",
    "            x.size(0),\n",
    "            self.in_features,\n",
    "            self.grid_size + self.spline_order,\n",
    "        )\n",
    "        return bases.contiguous()\n",
    "\n",
    "    def curve2coeff(self, x: torch.Tensor, y: torch.Tensor):\n",
    "        \"\"\"\n",
    "        计算插值给定点的曲线的系数。\n",
    "\n",
    "        参数:\n",
    "        x (torch.Tensor): 输入张量，形状为 (batch_size, in_features)。\n",
    "        y (torch.Tensor): 输出张量，形状为 (batch_size, in_features, out_features)。\n",
    "        返回:\n",
    "        torch.Tensor: 系数张量，形状为 (out_features, in_features, grid_size + spline_order)。\n",
    "        \"\"\"\n",
    "        assert x.dim() == 2 and x.size(1) == self.in_features\n",
    "        assert y.size() == (x.size(0), self.in_features, self.out_features)\n",
    "        # 计算 B-样条基函数\n",
    "        A = self.b_splines(x).transpose(\n",
    "            0, 1 # 形状为 (in_features, batch_size, grid_size + spline_order)\n",
    "        )  # (in_features, batch_size, grid_size + spline_order)\n",
    "        B = y.transpose(0, 1)  # (in_features, batch_size, out_features) # 形状为 (in_features, batch_size, out_features)\n",
    "        solution = torch.linalg.lstsq(   # 使用最小二乘法求解线性方程组\n",
    "            A, B\n",
    "        ).solution  # (in_features, grid_size + spline_order, out_features)  # 形状为 (in_features, grid_size + spline_order, out_features)\n",
    "        result = solution.permute( # 调整结果的维度顺序\n",
    "            2, 0, 1\n",
    "        )  # (out_features, in_features, grid_size + spline_order)\n",
    "\n",
    "        assert result.size() == (\n",
    "            self.out_features,\n",
    "            self.in_features,\n",
    "            self.grid_size + self.spline_order,\n",
    "        )\n",
    "        return result.contiguous()\n",
    "\n",
    "    @property\n",
    "    def scaled_spline_weight(self):\n",
    "        \"\"\"\n",
    "        获取缩放后的分段多项式权重。\n",
    "\n",
    "        返回:\n",
    "        torch.Tensor: 缩放后的分段多项式权重张量，形状与 self.spline_weight 相同。\n",
    "        \"\"\"\n",
    "        return self.spline_weight * (\n",
    "            self.spline_scaler.unsqueeze(-1)\n",
    "            if self.enable_standalone_scale_spline\n",
    "            else 1.0\n",
    "        )\n",
    "\n",
    "    def forward(self, x: torch.Tensor): # 将输入数据通过模型的各个层，经过线性变换和激活函数处理，最终得到模型的输出结果\n",
    "        \"\"\"\n",
    "        前向传播函数。\n",
    "\n",
    "        参数:\n",
    "        x (torch.Tensor): 输入张量，形状为 (batch_size, in_features)。\n",
    "\n",
    "        返回:\n",
    "        torch.Tensor: 输出张量，形状为 (batch_size, out_features)。\n",
    "        \"\"\"\n",
    "        assert x.dim() == 2 and x.size(1) == self.in_features\n",
    "\n",
    "        base_output = F.linear(self.base_activation(x), self.base_weight) # 计算基础线性层的输出\n",
    "        spline_output = F.linear( # 计算分段多项式线性层的输出\n",
    "            self.b_splines(x).view(x.size(0), -1),\n",
    "            self.scaled_spline_weight.view(self.out_features, -1),\n",
    "        )\n",
    "        return base_output + spline_output  # 返回基础线性层输出和分段多项式线性层输出的和\n",
    "\n",
    "    @torch.no_grad()\n",
    "    # 更新网格。\n",
    "    # 参数:\n",
    "    # x (torch.Tensor): 输入张量，形状为 (batch_size, in_features)。\n",
    "    # margin (float): 网格边缘空白的大小。默认为 0.01。\n",
    "    # 根据输入数据 x 的分布情况来动态更新模型的网格,使得模型能够更好地适应输入数据的分布特点，从而提高模型的表达能力和泛化能力。\n",
    "    def update_grid(self, x: torch.Tensor, margin=0.01): \n",
    "        assert x.dim() == 2 and x.size(1) == self.in_features\n",
    "        batch = x.size(0)\n",
    "\n",
    "        splines = self.b_splines(x)  # (batch, in, coeff)  # 计算 B-样条基函数\n",
    "        splines = splines.permute(1, 0, 2)  # (in, batch, coeff)  # 调整维度顺序为 (in, batch, coeff)\n",
    "        orig_coeff = self.scaled_spline_weight  # (out, in, coeff)\n",
    "        orig_coeff = orig_coeff.permute(1, 2, 0)  # (in, coeff, out)  # 调整维度顺序为 (in, coeff, out)\n",
    "        unreduced_spline_output = torch.bmm(splines, orig_coeff)  # (in, batch, out)\n",
    "        unreduced_spline_output = unreduced_spline_output.permute(\n",
    "            1, 0, 2\n",
    "        )  # (batch, in, out)\n",
    "\n",
    "        # sort each channel individually to collect data distribution\n",
    "        x_sorted = torch.sort(x, dim=0)[0] # 对每个通道单独排序以收集数据分布\n",
    "        grid_adaptive = x_sorted[\n",
    "            torch.linspace(\n",
    "                0, batch - 1, self.grid_size + 1, dtype=torch.int64, device=x.device\n",
    "            )\n",
    "        ]\n",
    "\n",
    "        uniform_step = (x_sorted[-1] - x_sorted[0] + 2 * margin) / self.grid_size\n",
    "        grid_uniform = (\n",
    "            torch.arange(\n",
    "                self.grid_size + 1, dtype=torch.float32, device=x.device\n",
    "            ).unsqueeze(1)\n",
    "            * uniform_step\n",
    "            + x_sorted[0]\n",
    "            - margin\n",
    "        )\n",
    "\n",
    "        grid = self.grid_eps * grid_uniform + (1 - self.grid_eps) * grid_adaptive\n",
    "        grid = torch.concatenate(\n",
    "            [\n",
    "                grid[:1]\n",
    "                - uniform_step\n",
    "                * torch.arange(self.spline_order, 0, -1, device=x.device).unsqueeze(1),\n",
    "                grid,\n",
    "                grid[-1:]\n",
    "                + uniform_step\n",
    "                * torch.arange(1, self.spline_order + 1, device=x.device).unsqueeze(1),\n",
    "            ],\n",
    "            dim=0,\n",
    "        )\n",
    "\n",
    "        self.grid.copy_(grid.T)   # 更新网格和分段多项式权重\n",
    "        self.spline_weight.data.copy_(self.curve2coeff(x, unreduced_spline_output))\n",
    "\n",
    "    def regularization_loss(self, regularize_activation=1.0, regularize_entropy=1.0):\n",
    "        # 计算正则化损失，用于约束模型的参数，防止过拟合\n",
    "        \"\"\"\n",
    "        Compute the regularization loss.\n",
    "\n",
    "        This is a dumb simulation of the original L1 regularization as stated in the\n",
    "        paper, since the original one requires computing absolutes and entropy from the\n",
    "        expanded (batch, in_features, out_features) intermediate tensor, which is hidden\n",
    "        behind the F.linear function if we want an memory efficient implementation.\n",
    "\n",
    "        The L1 regularization is now computed as mean absolute value of the spline\n",
    "        weights. The authors implementation also includes this term in addition to the\n",
    "        sample-based regularization.\n",
    "        \"\"\"\n",
    "        \"\"\"\n",
    "        计算正则化损失。\n",
    "\n",
    "        这是对原始 L1 正则化的简单模拟，因为原始方法需要从扩展的（batch, in_features, out_features）中间张量计算绝对值和熵，\n",
    "        而这个中间张量被 F.linear 函数隐藏起来，如果我们想要一个内存高效的实现。\n",
    "\n",
    "        现在的 L1 正则化是计算分段多项式权重的平均绝对值。作者的实现也包括这一项，除了基于样本的正则化。\n",
    "\n",
    "        参数:\n",
    "        regularize_activation (float): 正则化激活项的权重，默认为 1.0。\n",
    "        regularize_entropy (float): 正则化熵项的权重，默认为 1.0。\n",
    "\n",
    "        返回:\n",
    "        torch.Tensor: 正则化损失。\n",
    "        \"\"\"\n",
    "        l1_fake = self.spline_weight.abs().mean(-1)\n",
    "        regularization_loss_activation = l1_fake.sum()\n",
    "        p = l1_fake / regularization_loss_activation\n",
    "        regularization_loss_entropy = -torch.sum(p * p.log())\n",
    "        return (\n",
    "            regularize_activation * regularization_loss_activation\n",
    "            + regularize_entropy * regularization_loss_entropy\n",
    "        )\n",
    "\n",
    "\n",
    "class KAN(torch.nn.Module): # 封装了一个KAN神经网络模型，可以用于对数据进行拟合和预测。\n",
    "    def __init__(\n",
    "        self,\n",
    "        layers_hidden,\n",
    "        grid_size=5,\n",
    "        spline_order=3,\n",
    "        scale_noise=0.1,\n",
    "        scale_base=1.0,\n",
    "        scale_spline=1.0,\n",
    "        base_activation=torch.nn.SiLU,\n",
    "        grid_eps=0.02,\n",
    "        grid_range=[-1, 1],\n",
    "    ):\n",
    "        \"\"\"\n",
    "        初始化 KAN 模型。\n",
    "\n",
    "        参数:\n",
    "            layers_hidden (list): 包含每个隐藏层输入特征数量的列表。\n",
    "            grid_size (int): 网格大小，默认为 5。\n",
    "            spline_order (int): 分段多项式的阶数，默认为 3。\n",
    "            scale_noise (float): 缩放噪声，默认为 0.1。\n",
    "            scale_base (float): 基础缩放，默认为 1.0。\n",
    "            scale_spline (float): 分段多项式的缩放，默认为 1.0。\n",
    "            base_activation (torch.nn.Module): 基础激活函数，默认为 SiLU。\n",
    "            grid_eps (float): 网格调整参数，默认为 0.02。\n",
    "            grid_range (list): 网格范围，默认为 [-1, 1]。\n",
    "        \"\"\"\n",
    "        super(KAN, self).__init__()\n",
    "        self.grid_size = grid_size\n",
    "        self.spline_order = spline_order\n",
    "\n",
    "        self.layers = torch.nn.ModuleList()\n",
    "        for in_features, out_features in zip(layers_hidden, layers_hidden[1:]):\n",
    "            self.layers.append(\n",
    "                KANLinear(\n",
    "                    in_features,\n",
    "                    out_features,\n",
    "                    grid_size=grid_size,\n",
    "                    spline_order=spline_order,\n",
    "                    scale_noise=scale_noise,\n",
    "                    scale_base=scale_base,\n",
    "                    scale_spline=scale_spline,\n",
    "                    base_activation=base_activation,\n",
    "                    grid_eps=grid_eps,\n",
    "                    grid_range=grid_range,\n",
    "                )\n",
    "            )\n",
    "\n",
    "    def forward(self, x: torch.Tensor, update_grid=False): # 调用每个KANLinear层的forward方法，对输入数据进行前向传播计算输出。\n",
    "        \"\"\"\n",
    "        前向传播函数。\n",
    "\n",
    "        参数:\n",
    "            x (torch.Tensor): 输入张量，形状为 (batch_size, in_features)。\n",
    "            update_grid (bool): 是否更新网格。默认为 False。\n",
    "\n",
    "        返回:\n",
    "            torch.Tensor: 输出张量，形状为 (batch_size, out_features)。\n",
    "        \"\"\"\n",
    "        for layer in self.layers:\n",
    "            if update_grid:\n",
    "                layer.update_grid(x)\n",
    "            x = layer(x)\n",
    "        return x\n",
    "\n",
    "    def regularization_loss(self, regularize_activation=1.0, regularize_entropy=1.0):#计算正则化损失的方法，用于约束模型的参数，防止过拟合。\n",
    "        \"\"\"\n",
    "        计算正则化损失。\n",
    "\n",
    "        参数:\n",
    "            regularize_activation (float): 正则化激活项的权重，默认为 1.0。\n",
    "            regularize_entropy (float): 正则化熵项的权重，默认为 1.0。\n",
    "\n",
    "        返回:\n",
    "            torch.Tensor: 正则化损失。\n",
    "        \"\"\"\n",
    "        return sum(\n",
    "            layer.regularization_loss(regularize_activation, regularize_entropy)\n",
    "            for layer in self.layers\n",
    "        )\n"
   ],
   "metadata": {
    "collapsed": false,
    "ExecuteTime": {
     "end_time": "2024-05-20T09:25:58.755717700Z",
     "start_time": "2024-05-20T09:25:57.510496400Z"
    }
   },
   "id": "8ed5bb06e22353d2"
  },
  {
   "cell_type": "markdown",
   "source": [
    "## 测试代码，使用mnist数据集测试KAN_fast模型"
   ],
   "metadata": {
    "collapsed": false
   },
   "id": "e6cf34fce8da0123"
  },
  {
   "cell_type": "markdown",
   "source": [
    "### 1.加载数据集"
   ],
   "metadata": {
    "collapsed": false
   },
   "id": "a5911341b5e00b41"
  },
  {
   "cell_type": "code",
   "execution_count": 4,
   "outputs": [
    {
     "name": "stdout",
     "output_type": "stream",
     "text": [
      "Downloading http://yann.lecun.com/exdb/mnist/train-images-idx3-ubyte.gz\n",
      "Failed to download (trying next):\n",
      "HTTP Error 403: Forbidden\n",
      "\n",
      "Downloading https://ossci-datasets.s3.amazonaws.com/mnist/train-images-idx3-ubyte.gz\n",
      "Downloading https://ossci-datasets.s3.amazonaws.com/mnist/train-images-idx3-ubyte.gz to ./data\\MNIST\\raw\\train-images-idx3-ubyte.gz\n"
     ]
    },
    {
     "name": "stderr",
     "output_type": "stream",
     "text": [
      "100%|██████████| 9912422/9912422 [00:10<00:00, 931981.26it/s] \n"
     ]
    },
    {
     "name": "stdout",
     "output_type": "stream",
     "text": [
      "Extracting ./data\\MNIST\\raw\\train-images-idx3-ubyte.gz to ./data\\MNIST\\raw\n",
      "\n",
      "Downloading http://yann.lecun.com/exdb/mnist/train-labels-idx1-ubyte.gz\n",
      "Failed to download (trying next):\n",
      "HTTP Error 403: Forbidden\n",
      "\n",
      "Downloading https://ossci-datasets.s3.amazonaws.com/mnist/train-labels-idx1-ubyte.gz\n",
      "Downloading https://ossci-datasets.s3.amazonaws.com/mnist/train-labels-idx1-ubyte.gz to ./data\\MNIST\\raw\\train-labels-idx1-ubyte.gz\n"
     ]
    },
    {
     "name": "stderr",
     "output_type": "stream",
     "text": [
      "100%|██████████| 28881/28881 [00:00<00:00, 131099.09it/s]\n"
     ]
    },
    {
     "name": "stdout",
     "output_type": "stream",
     "text": [
      "Extracting ./data\\MNIST\\raw\\train-labels-idx1-ubyte.gz to ./data\\MNIST\\raw\n",
      "\n",
      "Downloading http://yann.lecun.com/exdb/mnist/t10k-images-idx3-ubyte.gz\n",
      "Failed to download (trying next):\n",
      "HTTP Error 403: Forbidden\n",
      "\n",
      "Downloading https://ossci-datasets.s3.amazonaws.com/mnist/t10k-images-idx3-ubyte.gz\n",
      "Downloading https://ossci-datasets.s3.amazonaws.com/mnist/t10k-images-idx3-ubyte.gz to ./data\\MNIST\\raw\\t10k-images-idx3-ubyte.gz\n"
     ]
    },
    {
     "name": "stderr",
     "output_type": "stream",
     "text": [
      "100%|██████████| 1648877/1648877 [00:04<00:00, 379482.13it/s]\n"
     ]
    },
    {
     "name": "stdout",
     "output_type": "stream",
     "text": [
      "Extracting ./data\\MNIST\\raw\\t10k-images-idx3-ubyte.gz to ./data\\MNIST\\raw\n",
      "\n",
      "Downloading http://yann.lecun.com/exdb/mnist/t10k-labels-idx1-ubyte.gz\n",
      "Failed to download (trying next):\n",
      "HTTP Error 403: Forbidden\n",
      "\n",
      "Downloading https://ossci-datasets.s3.amazonaws.com/mnist/t10k-labels-idx1-ubyte.gz\n",
      "Downloading https://ossci-datasets.s3.amazonaws.com/mnist/t10k-labels-idx1-ubyte.gz to ./data\\MNIST\\raw\\t10k-labels-idx1-ubyte.gz\n"
     ]
    },
    {
     "name": "stderr",
     "output_type": "stream",
     "text": [
      "100%|██████████| 4542/4542 [00:00<00:00, 9015867.85it/s]"
     ]
    },
    {
     "name": "stdout",
     "output_type": "stream",
     "text": [
      "Extracting ./data\\MNIST\\raw\\t10k-labels-idx1-ubyte.gz to ./data\\MNIST\\raw\n"
     ]
    },
    {
     "name": "stderr",
     "output_type": "stream",
     "text": [
      "\n"
     ]
    }
   ],
   "source": [
    "import torch\n",
    "import torch.nn as nn\n",
    "import torch.optim as optim\n",
    "import torchvision\n",
    "import torchvision.transforms as transforms\n",
    "from torch.utils.data import DataLoader\n",
    "from tqdm import tqdm\n",
    "\n",
    "# Load MNIST\n",
    "# 定义数据预处理转换：将图像转换为张量，并进行归一化\n",
    "transform = transforms.Compose(\n",
    "    [transforms.ToTensor(), transforms.Normalize((0.5,), (0.5,))]\n",
    ")\n",
    "# 创建训练数据集\n",
    "trainset = torchvision.datasets.MNIST(\n",
    "    root=\"./data\", train=True, download=True, transform=transform\n",
    ")\n",
    "valset = torchvision.datasets.MNIST(\n",
    "    root=\"./data\", train=False, download=True, transform=transform\n",
    ")\n",
    "# 创建训练数据加载器\n",
    "trainloader = DataLoader(trainset, batch_size=64, shuffle=True)\n",
    "valloader = DataLoader(valset, batch_size=64, shuffle=False)"
   ],
   "metadata": {
    "collapsed": false,
    "ExecuteTime": {
     "end_time": "2024-05-20T09:40:56.954041200Z",
     "start_time": "2024-05-20T09:40:32.100930500Z"
    }
   },
   "id": "1c42d57a08d1e97d"
  },
  {
   "cell_type": "markdown",
   "source": [
    "### 2.定义模型"
   ],
   "metadata": {
    "collapsed": false
   },
   "id": "14ac2479929ad919"
  },
  {
   "cell_type": "code",
   "execution_count": 22,
   "outputs": [
    {
     "name": "stdout",
     "output_type": "stream",
     "text": [
      "Number of parameters: 508160\n"
     ]
    }
   ],
   "source": [
    "# Define model\n",
    "model = KAN([28 * 28, 64, 10]) # 输入特征为28*28，有一个隐藏层（64个神经元），输出层有10个神经元，用于手写数字分类任务\n",
    "device = torch.device(\"cuda\" if torch.cuda.is_available() else \"cpu\")\n",
    "model.to(device)\n",
    "\n",
    "# 打印模型参数数量\n",
    "print(f\"Number of parameters: {sum(p.numel() for p in model.parameters())}\")\n",
    "\n",
    "# 将模型移动到可用的设备上（GPU 或 CPU）\n",
    "optimizer = optim.AdamW(model.parameters(), lr=1e-3, weight_decay=1e-4)\n",
    "# 定义优化器\n",
    "scheduler = optim.lr_scheduler.ExponentialLR(optimizer, gamma=0.8)\n",
    "\n",
    "# 定义损失函数 计算模型输出与实际标签之间的损失\n",
    "criterion = nn.CrossEntropyLoss()\n"
   ],
   "metadata": {
    "collapsed": false,
    "ExecuteTime": {
     "end_time": "2024-05-20T12:41:14.442911700Z",
     "start_time": "2024-05-20T12:41:14.360160300Z"
    }
   },
   "id": "512a4c38a110bae1"
  },
  {
   "cell_type": "markdown",
   "source": [
    "### 3.训练模型"
   ],
   "metadata": {
    "collapsed": false
   },
   "id": "63299919a39441b2"
  },
  {
   "cell_type": "code",
   "execution_count": 17,
   "outputs": [
    {
     "name": "stderr",
     "output_type": "stream",
     "text": [
      "100%|██████████| 938/938 [00:12<00:00, 77.26it/s, accuracy=0.906, loss=0.299, lr=0.001] \n"
     ]
    },
    {
     "name": "stdout",
     "output_type": "stream",
     "text": [
      "Epoch 1, Val Loss: 0.22986625143249703, Val Accuracy: 0.9326234076433121\n"
     ]
    },
    {
     "name": "stderr",
     "output_type": "stream",
     "text": [
      "100%|██████████| 938/938 [00:11<00:00, 78.33it/s, accuracy=0.906, loss=0.207, lr=0.0008] \n"
     ]
    },
    {
     "name": "stdout",
     "output_type": "stream",
     "text": [
      "Epoch 2, Val Loss: 0.16232301824233808, Val Accuracy: 0.9529259554140127\n"
     ]
    },
    {
     "name": "stderr",
     "output_type": "stream",
     "text": [
      "100%|██████████| 938/938 [00:11<00:00, 79.00it/s, accuracy=0.969, loss=0.0819, lr=0.00064]\n"
     ]
    },
    {
     "name": "stdout",
     "output_type": "stream",
     "text": [
      "Epoch 3, Val Loss: 0.13194065666787183, Val Accuracy: 0.9607882165605095\n"
     ]
    },
    {
     "name": "stderr",
     "output_type": "stream",
     "text": [
      "100%|██████████| 938/938 [00:12<00:00, 77.97it/s, accuracy=1, loss=0.0142, lr=0.000512]    \n"
     ]
    },
    {
     "name": "stdout",
     "output_type": "stream",
     "text": [
      "Epoch 4, Val Loss: 0.11500852052893513, Val Accuracy: 0.9656648089171974\n"
     ]
    },
    {
     "name": "stderr",
     "output_type": "stream",
     "text": [
      "100%|██████████| 938/938 [00:12<00:00, 77.94it/s, accuracy=1, loss=0.0775, lr=0.00041]    \n"
     ]
    },
    {
     "name": "stdout",
     "output_type": "stream",
     "text": [
      "Epoch 5, Val Loss: 0.10392475125059533, Val Accuracy: 0.9702428343949044\n"
     ]
    },
    {
     "name": "stderr",
     "output_type": "stream",
     "text": [
      "100%|██████████| 938/938 [00:12<00:00, 77.58it/s, accuracy=1, loss=0.0337, lr=0.000328]    \n"
     ]
    },
    {
     "name": "stdout",
     "output_type": "stream",
     "text": [
      "Epoch 6, Val Loss: 0.09699491749645157, Val Accuracy: 0.9697452229299363\n"
     ]
    },
    {
     "name": "stderr",
     "output_type": "stream",
     "text": [
      "100%|██████████| 938/938 [00:11<00:00, 79.85it/s, accuracy=1, loss=0.042, lr=0.000262]     \n"
     ]
    },
    {
     "name": "stdout",
     "output_type": "stream",
     "text": [
      "Epoch 7, Val Loss: 0.09529946388151782, Val Accuracy: 0.971437101910828\n"
     ]
    },
    {
     "name": "stderr",
     "output_type": "stream",
     "text": [
      "100%|██████████| 938/938 [00:11<00:00, 78.46it/s, accuracy=1, loss=0.0272, lr=0.00021]    \n"
     ]
    },
    {
     "name": "stdout",
     "output_type": "stream",
     "text": [
      "Epoch 8, Val Loss: 0.09206455424324177, Val Accuracy: 0.9717356687898089\n"
     ]
    },
    {
     "name": "stderr",
     "output_type": "stream",
     "text": [
      "100%|██████████| 938/938 [00:11<00:00, 79.62it/s, accuracy=1, loss=0.0337, lr=0.000168]    \n"
     ]
    },
    {
     "name": "stdout",
     "output_type": "stream",
     "text": [
      "Epoch 9, Val Loss: 0.08946938265061635, Val Accuracy: 0.9723328025477707\n"
     ]
    },
    {
     "name": "stderr",
     "output_type": "stream",
     "text": [
      "100%|██████████| 938/938 [00:11<00:00, 79.00it/s, accuracy=0.969, loss=0.166, lr=0.000134] \n"
     ]
    },
    {
     "name": "stdout",
     "output_type": "stream",
     "text": [
      "Epoch 10, Val Loss: 0.08987779363323964, Val Accuracy: 0.9721337579617835\n"
     ]
    }
   ],
   "source": [
    "import torch\n",
    "from tqdm import tqdm\n",
    "import matplotlib.pyplot as plt\n",
    "import time\n",
    "\n",
    "# 用于记录训练和验证的损失和准确率\n",
    "train_losses = []\n",
    "train_accuracies = []\n",
    "val_losses = []\n",
    "val_accuracies = []\n",
    "epoch_times = []\n",
    "\n",
    "for epoch in range(10):\n",
    "    start_time = time.time()  # 记录当前epoch的开始时间\n",
    "    # 训练阶段\n",
    "    model.train()\n",
    "    train_loss = 0\n",
    "    train_accuracy = 0\n",
    "    with tqdm(trainloader) as pbar:\n",
    "        for i, (images, labels) in enumerate(pbar):\n",
    "            images = images.view(-1, 28 * 28).to(device)  # 将图像数据展平为一维张量，并移到指定设备上\n",
    "            optimizer.zero_grad() # 梯度清零\n",
    "            output = model(images) # 前向传播计算输出\n",
    "            loss = criterion(output, labels.to(device)) # 计算损失\n",
    "            loss.backward() # 反向传播\n",
    "            optimizer.step()  # 更新优化器参数\n",
    "\n",
    "            train_loss += loss.item()\n",
    "            train_accuracy += (output.argmax(dim=1) == labels.to(device)).float().mean().item()\n",
    "\n",
    "            pbar.set_postfix(loss=loss.item(), accuracy=(output.argmax(dim=1) == labels.to(device)).float().mean().item(), lr=optimizer.param_groups[0]['lr'])\n",
    "\n",
    "    train_loss /= len(trainloader)\n",
    "    train_accuracy /= len(trainloader)\n",
    "    train_losses.append(train_loss)\n",
    "    train_accuracies.append(train_accuracy)\n",
    "\n",
    "    # 验证阶段\n",
    "    model.eval()\n",
    "    val_loss = 0\n",
    "    val_accuracy = 0\n",
    "    with torch.no_grad():\n",
    "        for images, labels in valloader:\n",
    "            images = images.view(-1, 28 * 28).to(device)\n",
    "            output = model(images)\n",
    "            val_loss += criterion(output, labels.to(device)).item()\n",
    "            val_accuracy += (output.argmax(dim=1) == labels.to(device)).float().mean().item()\n",
    "\n",
    "    val_loss /= len(valloader)\n",
    "    val_accuracy /= len(valloader)\n",
    "    val_losses.append(val_loss)\n",
    "    val_accuracies.append(val_accuracy)\n",
    "\n",
    "    scheduler.step()\n",
    "    \n",
    "    end_time = time.time()  # 记录当前epoch的结束时间\n",
    "    epoch_time = end_time - start_time  # 计算当前epoch的持续时间\n",
    "    epoch_times.append(epoch_time)  # 记录持续时间\n",
    "\n",
    "    print(f\"Epoch {epoch + 1}, Val Loss: {val_loss}, Val Accuracy: {val_accuracy}\")\n"
   ],
   "metadata": {
    "collapsed": false,
    "ExecuteTime": {
     "end_time": "2024-05-20T10:18:55.681167400Z",
     "start_time": "2024-05-20T10:16:44.181927900Z"
    }
   },
   "id": "1b3628fde87d2885"
  },
  {
   "cell_type": "markdown",
   "source": [
    "### 绘制损失函数图"
   ],
   "metadata": {
    "collapsed": false
   },
   "id": "659d5344b9160fcc"
  },
  {
   "cell_type": "code",
   "execution_count": 27,
   "outputs": [
    {
     "data": {
      "text/plain": "<Figure size 1200x400 with 3 Axes>",
      "image/png": "[encoded data removed]"
     },
     "metadata": {},
     "output_type": "display_data"
    }
   ],
   "source": [
    "# 绘制损失函数图\n",
    "plt.rcParams['font.family'] = 'SimHei'\n",
    "plt.figure(figsize=(12, 4))\n",
    "\n",
    "plt.subplot(1, 3, 1)\n",
    "plt.plot(range(1, 11), train_losses, label='Train Loss')\n",
    "plt.plot(range(1, 11), val_losses, label='Val Loss')\n",
    "plt.xlabel('Epoch')\n",
    "plt.ylabel('Loss')\n",
    "plt.title('KAN_fast-训练和验证误差-樊豫龙')\n",
    "plt.legend()\n",
    "\n",
    "plt.subplot(1, 3, 2)\n",
    "plt.plot(range(1, 11), train_accuracies, label='Train Accuracy')\n",
    "plt.plot(range(1, 11), val_accuracies, label='Val Accuracy')\n",
    "plt.xlabel('Epoch')\n",
    "plt.ylabel('Accuracy')\n",
    "plt.title('KAN_fast-Accuracy-樊豫龙')\n",
    "plt.legend()\n",
    "\n",
    "plt.subplot(1, 3, 3)\n",
    "plt.plot(range(1, 11), epoch_times, label='Epoch Time')\n",
    "plt.xlabel('Epoch')\n",
    "plt.ylabel('Time (seconds)')\n",
    "plt.title('KAN_fast-每步训练时间-樊豫龙')\n",
    "plt.legend()\n",
    "\n",
    "plt.tight_layout()\n",
    "plt.show()"
   ],
   "metadata": {
    "collapsed": false,
    "ExecuteTime": {
     "end_time": "2024-05-20T13:13:02.460002200Z",
     "start_time": "2024-05-20T13:13:00.290043300Z"
    }
   },
   "id": "257b1eec1b071bd0"
  },
  {
   "cell_type": "markdown",
   "source": [
    "## 对比KAN_fast,KAN,mlp，我们可以看出来KAN_fast的性能不错，它的准确率更高，损失更低，训练时间接近mlp，远远小于KAN源码（KAN很慢）。"
   ],
   "metadata": {
    "collapsed": false
   },
   "id": "b08e94edb78b3c55"
  },
  {
   "cell_type": "code",
   "execution_count": 24,
   "outputs": [],
   "source": [
    "torch.save(model.state_dict(), \"./models/kan_fast.pth\")"
   ],
   "metadata": {
    "collapsed": false,
    "ExecuteTime": {
     "end_time": "2024-05-20T12:51:03.631795500Z",
     "start_time": "2024-05-20T12:51:03.471212300Z"
    }
   },
   "id": "31877de600717d69"
  },
  {
   "cell_type": "code",
   "execution_count": null,
   "outputs": [],
   "source": [],
   "metadata": {
    "collapsed": false
   },
   "id": "5423d83f102aad54"
  },
  {
   "cell_type": "code",
   "execution_count": null,
   "outputs": [],
   "source": [],
   "metadata": {
    "collapsed": false
   },
   "id": "4c254ee1d8bbe4cc"
  }
 ],
 "metadata": {
  "kernelspec": {
   "display_name": "Python 3",
   "language": "python",
   "name": "python3"
  },
  "language_info": {
   "codemirror_mode": {
    "name": "ipython",
    "version": 2
   },
   "file_extension": ".py",
   "mimetype": "text/x-python",
   "name": "python",
   "nbconvert_exporter": "python",
   "pygments_lexer": "ipython2",
   "version": "2.7.6"
  }
 },
 "nbformat": 4,
 "nbformat_minor": 5
}
